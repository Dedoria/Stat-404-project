{
 "cells": [
  {
   "cell_type": "markdown",
   "metadata": {},
   "source": [
    "# STAT 404 project\n",
    "\n",
    "author:\n",
    "  - Yanping (Dedoria) Wang (89845473)\n",
    "  - Kevin Zhu (81805673)\n",
    "  - Raojun Bo (55832919)\n"
   ]
  },
  {
   "cell_type": "code",
   "execution_count": 5,
   "metadata": {
    "vscode": {
     "languageId": "r"
    }
   },
   "outputs": [],
   "source": [
    "library(dplyr)\n",
    "library(ggplot2)"
   ]
  },
  {
   "cell_type": "code",
   "execution_count": 2,
   "metadata": {
    "vscode": {
     "languageId": "r"
    }
   },
   "outputs": [
    {
     "data": {
      "text/html": [
       "<table class=\"dataframe\">\n",
       "<caption>A data.frame: 6 × 7</caption>\n",
       "<thead>\n",
       "\t<tr><th></th><th scope=col>Person</th><th scope=col>gender</th><th scope=col>Age</th><th scope=col>Height</th><th scope=col>pre.weight</th><th scope=col>Diet</th><th scope=col>weight6weeks</th></tr>\n",
       "\t<tr><th></th><th scope=col>&lt;int&gt;</th><th scope=col>&lt;int&gt;</th><th scope=col>&lt;int&gt;</th><th scope=col>&lt;int&gt;</th><th scope=col>&lt;int&gt;</th><th scope=col>&lt;int&gt;</th><th scope=col>&lt;dbl&gt;</th></tr>\n",
       "</thead>\n",
       "<tbody>\n",
       "\t<tr><th scope=row>1</th><td>25</td><td>0</td><td>41</td><td>171</td><td> 60</td><td>2</td><td> 60.0</td></tr>\n",
       "\t<tr><th scope=row>2</th><td>26</td><td>0</td><td>32</td><td>174</td><td>103</td><td>2</td><td>103.0</td></tr>\n",
       "\t<tr><th scope=row>3</th><td> 1</td><td>0</td><td>22</td><td>159</td><td> 58</td><td>1</td><td> 54.2</td></tr>\n",
       "\t<tr><th scope=row>4</th><td> 2</td><td>0</td><td>46</td><td>192</td><td> 60</td><td>1</td><td> 54.0</td></tr>\n",
       "\t<tr><th scope=row>5</th><td> 3</td><td>0</td><td>55</td><td>170</td><td> 64</td><td>1</td><td> 63.3</td></tr>\n",
       "\t<tr><th scope=row>6</th><td> 4</td><td>0</td><td>33</td><td>171</td><td> 64</td><td>1</td><td> 61.1</td></tr>\n",
       "</tbody>\n",
       "</table>\n"
      ],
      "text/latex": [
       "A data.frame: 6 × 7\n",
       "\\begin{tabular}{r|lllllll}\n",
       "  & Person & gender & Age & Height & pre.weight & Diet & weight6weeks\\\\\n",
       "  & <int> & <int> & <int> & <int> & <int> & <int> & <dbl>\\\\\n",
       "\\hline\n",
       "\t1 & 25 & 0 & 41 & 171 &  60 & 2 &  60.0\\\\\n",
       "\t2 & 26 & 0 & 32 & 174 & 103 & 2 & 103.0\\\\\n",
       "\t3 &  1 & 0 & 22 & 159 &  58 & 1 &  54.2\\\\\n",
       "\t4 &  2 & 0 & 46 & 192 &  60 & 1 &  54.0\\\\\n",
       "\t5 &  3 & 0 & 55 & 170 &  64 & 1 &  63.3\\\\\n",
       "\t6 &  4 & 0 & 33 & 171 &  64 & 1 &  61.1\\\\\n",
       "\\end{tabular}\n"
      ],
      "text/markdown": [
       "\n",
       "A data.frame: 6 × 7\n",
       "\n",
       "| <!--/--> | Person &lt;int&gt; | gender &lt;int&gt; | Age &lt;int&gt; | Height &lt;int&gt; | pre.weight &lt;int&gt; | Diet &lt;int&gt; | weight6weeks &lt;dbl&gt; |\n",
       "|---|---|---|---|---|---|---|---|\n",
       "| 1 | 25 | 0 | 41 | 171 |  60 | 2 |  60.0 |\n",
       "| 2 | 26 | 0 | 32 | 174 | 103 | 2 | 103.0 |\n",
       "| 3 |  1 | 0 | 22 | 159 |  58 | 1 |  54.2 |\n",
       "| 4 |  2 | 0 | 46 | 192 |  60 | 1 |  54.0 |\n",
       "| 5 |  3 | 0 | 55 | 170 |  64 | 1 |  63.3 |\n",
       "| 6 |  4 | 0 | 33 | 171 |  64 | 1 |  61.1 |\n",
       "\n"
      ],
      "text/plain": [
       "  Person gender Age Height pre.weight Diet weight6weeks\n",
       "1 25     0      41  171     60        2     60.0       \n",
       "2 26     0      32  174    103        2    103.0       \n",
       "3  1     0      22  159     58        1     54.2       \n",
       "4  2     0      46  192     60        1     54.0       \n",
       "5  3     0      55  170     64        1     63.3       \n",
       "6  4     0      33  171     64        1     61.1       "
      ]
     },
     "metadata": {},
     "output_type": "display_data"
    }
   ],
   "source": [
    "#read data\n",
    "food <- read.csv(\"data/foodDiet.csv\")\n",
    "head(food)"
   ]
  },
  {
   "cell_type": "code",
   "execution_count": 3,
   "metadata": {
    "vscode": {
     "languageId": "r"
    }
   },
   "outputs": [
    {
     "data": {
      "text/plain": [
       "     Person          gender            Age            Height     \n",
       " Min.   : 1.00   Min.   :0.0000   Min.   :16.00   Min.   :141.0  \n",
       " 1st Qu.:20.25   1st Qu.:0.0000   1st Qu.:32.25   1st Qu.:164.2  \n",
       " Median :39.50   Median :0.0000   Median :39.00   Median :169.5  \n",
       " Mean   :39.50   Mean   :0.4231   Mean   :39.15   Mean   :170.8  \n",
       " 3rd Qu.:58.75   3rd Qu.:1.0000   3rd Qu.:46.75   3rd Qu.:174.8  \n",
       " Max.   :78.00   Max.   :1.0000   Max.   :60.00   Max.   :201.0  \n",
       "   pre.weight          Diet        weight6weeks   \n",
       " Min.   : 58.00   Min.   :1.000   Min.   : 53.00  \n",
       " 1st Qu.: 66.00   1st Qu.:1.000   1st Qu.: 61.85  \n",
       " Median : 72.00   Median :2.000   Median : 68.95  \n",
       " Mean   : 72.53   Mean   :2.038   Mean   : 68.68  \n",
       " 3rd Qu.: 78.00   3rd Qu.:3.000   3rd Qu.: 73.83  \n",
       " Max.   :103.00   Max.   :3.000   Max.   :103.00  "
      ]
     },
     "metadata": {},
     "output_type": "display_data"
    }
   ],
   "source": [
    "summary(food)"
   ]
  },
  {
   "cell_type": "markdown",
   "metadata": {},
   "source": [
    "| Variable Name         | Levels of the Variable      | Changes to Original Variable    |\n",
    "|-----------------------|-----------------------------|-------------------------------------|\n",
    "| person        | 1-78 stands for id for each person    | drop this, not useful            |\n",
    "| gender        | 0 for female, 1 for male     | None            |\n",
    "| Age(years old)        | 16-60    | 16-19(Adolescent), 20-39(Adults), 40-49(Middle-Aged Adults), 50-60(Elder Adults)         |\n",
    "| Height(cm)     | Continuous 141cm-201cm  | Calculate BMI with pre.weight                    |\n",
    "| pre.Weight (kg)  | Continuous 58kg-103kg (weight before the experiment)      | categorize them as Underweight(<18.5), Healthy(18.5 - 25), Overweight(25 - 30), Obesity(>=30)     |\n",
    "| Diet         | 1(Placebo), 2(Keto), 3(Vegan)    | None            |\n",
    "| weight6weeks (kg)    | Continuous 53kg-103kg (weight after 6 weeks take diet)      |     Calculate BMI with Height        |\n",
    "| weightloss (kg)    | Continuous  (weight6weeks - pre.Weight)   |    None       |"
   ]
  },
  {
   "cell_type": "code",
   "execution_count": 4,
   "metadata": {
    "vscode": {
     "languageId": "r"
    }
   },
   "outputs": [
    {
     "data": {
      "text/html": [
       "<table class=\"dataframe\">\n",
       "<caption>A data.frame: 6 × 11</caption>\n",
       "<thead>\n",
       "\t<tr><th></th><th scope=col>gender</th><th scope=col>AgeGroup</th><th scope=col>Diet</th><th scope=col>BMI_pre</th><th scope=col>BMI_category_pre</th><th scope=col>BMI_post</th><th scope=col>weightloss</th><th scope=col>Diet_std</th><th scope=col>BMI_pre_std</th><th scope=col>BMI_post_std</th><th scope=col>weightloss_std</th></tr>\n",
       "\t<tr><th></th><th scope=col>&lt;fct&gt;</th><th scope=col>&lt;fct&gt;</th><th scope=col>&lt;int&gt;</th><th scope=col>&lt;dbl&gt;</th><th scope=col>&lt;fct&gt;</th><th scope=col>&lt;dbl&gt;</th><th scope=col>&lt;dbl&gt;</th><th scope=col>&lt;dbl&gt;</th><th scope=col>&lt;dbl&gt;</th><th scope=col>&lt;dbl&gt;</th><th scope=col>&lt;dbl&gt;</th></tr>\n",
       "</thead>\n",
       "<tbody>\n",
       "\t<tr><th scope=row>1</th><td>Female</td><td>Middle-Aged Adults</td><td>2</td><td>20.51913</td><td>Healthy    </td><td>20.51913</td><td> 0.0</td><td>-0.04731281</td><td>-1.1367460</td><td>-0.8409967</td><td> 1.50691963</td></tr>\n",
       "\t<tr><th scope=row>2</th><td>Female</td><td>Adults            </td><td>2</td><td>34.02035</td><td>Obesity    </td><td>34.02035</td><td> 0.0</td><td>-0.04731281</td><td> 2.2089119</td><td> 2.6665571</td><td> 1.50691963</td></tr>\n",
       "\t<tr><th scope=row>3</th><td>Female</td><td>Adults            </td><td>1</td><td>22.94213</td><td>Healthy    </td><td>21.43903</td><td>-3.8</td><td>-1.27744594</td><td>-0.5363172</td><td>-0.6020131</td><td> 0.01758659</td></tr>\n",
       "\t<tr><th scope=row>4</th><td>Female</td><td>Middle-Aged Adults</td><td>1</td><td>16.27604</td><td>Underweight</td><td>14.64844</td><td>-6.0</td><td>-1.27744594</td><td>-2.1882023</td><td>-2.3661771</td><td>-0.84465885</td></tr>\n",
       "\t<tr><th scope=row>5</th><td>Female</td><td>Elder Adults      </td><td>1</td><td>22.14533</td><td>Healthy    </td><td>21.90311</td><td>-0.7</td><td>-1.27744594</td><td>-0.7337680</td><td>-0.4814449</td><td> 1.23256881</td></tr>\n",
       "\t<tr><th scope=row>6</th><td>Female</td><td>Adults            </td><td>1</td><td>21.88708</td><td>Healthy    </td><td>20.89532</td><td>-2.9</td><td>-1.27744594</td><td>-0.7977641</td><td>-0.7432658</td><td> 0.37032336</td></tr>\n",
       "</tbody>\n",
       "</table>\n"
      ],
      "text/latex": [
       "A data.frame: 6 × 11\n",
       "\\begin{tabular}{r|lllllllllll}\n",
       "  & gender & AgeGroup & Diet & BMI\\_pre & BMI\\_category\\_pre & BMI\\_post & weightloss & Diet\\_std & BMI\\_pre\\_std & BMI\\_post\\_std & weightloss\\_std\\\\\n",
       "  & <fct> & <fct> & <int> & <dbl> & <fct> & <dbl> & <dbl> & <dbl> & <dbl> & <dbl> & <dbl>\\\\\n",
       "\\hline\n",
       "\t1 & Female & Middle-Aged Adults & 2 & 20.51913 & Healthy     & 20.51913 &  0.0 & -0.04731281 & -1.1367460 & -0.8409967 &  1.50691963\\\\\n",
       "\t2 & Female & Adults             & 2 & 34.02035 & Obesity     & 34.02035 &  0.0 & -0.04731281 &  2.2089119 &  2.6665571 &  1.50691963\\\\\n",
       "\t3 & Female & Adults             & 1 & 22.94213 & Healthy     & 21.43903 & -3.8 & -1.27744594 & -0.5363172 & -0.6020131 &  0.01758659\\\\\n",
       "\t4 & Female & Middle-Aged Adults & 1 & 16.27604 & Underweight & 14.64844 & -6.0 & -1.27744594 & -2.1882023 & -2.3661771 & -0.84465885\\\\\n",
       "\t5 & Female & Elder Adults       & 1 & 22.14533 & Healthy     & 21.90311 & -0.7 & -1.27744594 & -0.7337680 & -0.4814449 &  1.23256881\\\\\n",
       "\t6 & Female & Adults             & 1 & 21.88708 & Healthy     & 20.89532 & -2.9 & -1.27744594 & -0.7977641 & -0.7432658 &  0.37032336\\\\\n",
       "\\end{tabular}\n"
      ],
      "text/markdown": [
       "\n",
       "A data.frame: 6 × 11\n",
       "\n",
       "| <!--/--> | gender &lt;fct&gt; | AgeGroup &lt;fct&gt; | Diet &lt;int&gt; | BMI_pre &lt;dbl&gt; | BMI_category_pre &lt;fct&gt; | BMI_post &lt;dbl&gt; | weightloss &lt;dbl&gt; | Diet_std &lt;dbl&gt; | BMI_pre_std &lt;dbl&gt; | BMI_post_std &lt;dbl&gt; | weightloss_std &lt;dbl&gt; |\n",
       "|---|---|---|---|---|---|---|---|---|---|---|---|\n",
       "| 1 | Female | Middle-Aged Adults | 2 | 20.51913 | Healthy     | 20.51913 |  0.0 | -0.04731281 | -1.1367460 | -0.8409967 |  1.50691963 |\n",
       "| 2 | Female | Adults             | 2 | 34.02035 | Obesity     | 34.02035 |  0.0 | -0.04731281 |  2.2089119 |  2.6665571 |  1.50691963 |\n",
       "| 3 | Female | Adults             | 1 | 22.94213 | Healthy     | 21.43903 | -3.8 | -1.27744594 | -0.5363172 | -0.6020131 |  0.01758659 |\n",
       "| 4 | Female | Middle-Aged Adults | 1 | 16.27604 | Underweight | 14.64844 | -6.0 | -1.27744594 | -2.1882023 | -2.3661771 | -0.84465885 |\n",
       "| 5 | Female | Elder Adults       | 1 | 22.14533 | Healthy     | 21.90311 | -0.7 | -1.27744594 | -0.7337680 | -0.4814449 |  1.23256881 |\n",
       "| 6 | Female | Adults             | 1 | 21.88708 | Healthy     | 20.89532 | -2.9 | -1.27744594 | -0.7977641 | -0.7432658 |  0.37032336 |\n",
       "\n"
      ],
      "text/plain": [
       "  gender AgeGroup           Diet BMI_pre  BMI_category_pre BMI_post weightloss\n",
       "1 Female Middle-Aged Adults 2    20.51913 Healthy          20.51913  0.0      \n",
       "2 Female Adults             2    34.02035 Obesity          34.02035  0.0      \n",
       "3 Female Adults             1    22.94213 Healthy          21.43903 -3.8      \n",
       "4 Female Middle-Aged Adults 1    16.27604 Underweight      14.64844 -6.0      \n",
       "5 Female Elder Adults       1    22.14533 Healthy          21.90311 -0.7      \n",
       "6 Female Adults             1    21.88708 Healthy          20.89532 -2.9      \n",
       "  Diet_std    BMI_pre_std BMI_post_std weightloss_std\n",
       "1 -0.04731281 -1.1367460  -0.8409967    1.50691963   \n",
       "2 -0.04731281  2.2089119   2.6665571    1.50691963   \n",
       "3 -1.27744594 -0.5363172  -0.6020131    0.01758659   \n",
       "4 -1.27744594 -2.1882023  -2.3661771   -0.84465885   \n",
       "5 -1.27744594 -0.7337680  -0.4814449    1.23256881   \n",
       "6 -1.27744594 -0.7977641  -0.7432658    0.37032336   "
      ]
     },
     "metadata": {},
     "output_type": "display_data"
    },
    {
     "data": {
      "text/plain": [
       "    gender                 AgeGroup       Diet          BMI_pre     \n",
       " Female:45   Adolescent        : 1   Min.   :1.000   Min.   :16.28  \n",
       " Male  :33   Adults            :39   1st Qu.:1.000   1st Qu.:22.13  \n",
       "             Middle-Aged Adults:23   Median :2.000   Median :24.75  \n",
       "             Elder Adults      :15   Mean   :2.038   Mean   :25.11  \n",
       "                                     3rd Qu.:3.000   3rd Qu.:28.44  \n",
       "                                     Max.   :3.000   Max.   :35.21  \n",
       "    BMI_category_pre    BMI_post       weightloss        Diet_std       \n",
       " Underweight: 2      Min.   :14.65   Min.   :-9.200   Min.   :-1.27745  \n",
       " Healthy    :43      1st Qu.:20.93   1st Qu.:-5.550   1st Qu.:-1.27745  \n",
       " Overweight :22      Median :23.42   Median :-3.600   Median :-0.04731  \n",
       " Obesity    :11      Mean   :23.76   Mean   :-3.845   Mean   : 0.00000  \n",
       "                     3rd Qu.:26.63   3rd Qu.:-2.000   3rd Qu.: 1.18282  \n",
       "                     Max.   :34.02   Max.   : 2.100   Max.   : 1.18282  \n",
       "  BMI_pre_std        BMI_post_std      weightloss_std    \n",
       " Min.   :-2.18820   Min.   :-2.36618   Min.   :-2.09883  \n",
       " 1st Qu.:-0.73667   1st Qu.:-0.73343   1st Qu.:-0.66829  \n",
       " Median :-0.08715   Median :-0.08716   Median : 0.09597  \n",
       " Mean   : 0.00000   Mean   : 0.00000   Mean   : 0.00000  \n",
       " 3rd Qu.: 0.82487   3rd Qu.: 0.74779   3rd Qu.: 0.72306  \n",
       " Max.   : 2.50359   Max.   : 2.66656   Max.   : 2.32997  "
      ]
     },
     "metadata": {},
     "output_type": "display_data"
    }
   ],
   "source": [
    "# Create a copy of the original data\n",
    "food_original <- food\n",
    "\n",
    "# Modify the data: drop 'Person' and perform necessary transformations\n",
    "food_modified <- food_original %>%\n",
    "  select(-Person) %>%  # Drop 'Person' column\n",
    "  mutate(\n",
    "    # Recode 'gender'\n",
    "    gender = factor(gender, levels = c(0, 1), labels = c(\"Female\", \"Male\")),\n",
    "    \n",
    "    # Reclassify 'Age' into age groups\n",
    "    AgeGroup = cut(\n",
    "      Age,\n",
    "      breaks = c(15, 19, 39, 49, 60),\n",
    "      right = TRUE,\n",
    "      labels = c(\"Adolescent\", \"Adults\", \"Middle-Aged Adults\", \"Elder Adults\")\n",
    "    ),\n",
    "    \n",
    "    # Convert 'Height' to meters\n",
    "    Height_m = Height / 100,\n",
    "    \n",
    "    # Calculate BMI before the experiment\n",
    "    BMI_pre = pre.weight / (Height_m^2),\n",
    "    \n",
    "    # Categorize BMI_pre\n",
    "    BMI_category_pre = cut(\n",
    "      BMI_pre,\n",
    "      breaks = c(-Inf, 18.5, 25, 30, Inf),\n",
    "      labels = c(\"Underweight\", \"Healthy\", \"Overweight\", \"Obesity\")\n",
    "    ),\n",
    "    \n",
    "    # Calculate BMI after 6 weeks\n",
    "    BMI_post = weight6weeks / (Height_m^2),\n",
    "    \n",
    "    # Calculate weight loss\n",
    "    weightloss = weight6weeks - pre.weight\n",
    "  )\n",
    "\n",
    "# Select required columns for the new dataset\n",
    "food_new <- food_modified %>%\n",
    "  select(\n",
    "    gender,\n",
    "    AgeGroup,\n",
    "    Diet,\n",
    "    BMI_pre,\n",
    "    BMI_category_pre,\n",
    "    BMI_post,\n",
    "    weightloss\n",
    "  )\n",
    "\n",
    "# Identify numeric columns\n",
    "numeric_cols <- food_new %>%\n",
    "  select(where(is.numeric)) %>%\n",
    "  names()\n",
    "\n",
    "# Standardize numeric columns and add them to the new dataset\n",
    "food_new <- food_new %>%\n",
    "  mutate(across(all_of(numeric_cols), ~ scale(.)[,1], .names = \"{col}_std\"))\n",
    "\n",
    "# View the first few rows of the new dataset\n",
    "head(food_new)\n",
    "\n",
    "# Summary statistics of the new dataset\n",
    "summary(food_new)\n",
    "\n"
   ]
  },
  {
   "cell_type": "code",
   "execution_count": 6,
   "metadata": {
    "vscode": {
     "languageId": "r"
    }
   },
   "outputs": [
    {
     "name": "stdout",
     "output_type": "stream",
     "text": [
      "\u001b[90m# A tibble: 3 × 5\u001b[39m\n",
      "   Diet average_weight_change median_weight_change sd_weight_change count\n",
      "  \u001b[3m\u001b[90m<int>\u001b[39m\u001b[23m                 \u001b[3m\u001b[90m<dbl>\u001b[39m\u001b[23m                \u001b[3m\u001b[90m<dbl>\u001b[39m\u001b[23m            \u001b[3m\u001b[90m<dbl>\u001b[39m\u001b[23m \u001b[3m\u001b[90m<int>\u001b[39m\u001b[23m\n",
      "\u001b[90m1\u001b[39m     2                 -\u001b[31m3\u001b[39m\u001b[31m.\u001b[39m\u001b[31m0\u001b[39m\u001b[31m3\u001b[39m                -\u001b[31m3\u001b[39m\u001b[31m.\u001b[39m\u001b[31m30\u001b[39m             2.52    27\n",
      "\u001b[90m2\u001b[39m     1                 -\u001b[31m3\u001b[39m\u001b[31m.\u001b[39m\u001b[31m3\u001b[39m                 -\u001b[31m3\u001b[39m\u001b[31m.\u001b[39m\u001b[31m0\u001b[39m\u001b[31m5\u001b[39m             2.24    24\n",
      "\u001b[90m3\u001b[39m     3                 -\u001b[31m5\u001b[39m\u001b[31m.\u001b[39m\u001b[31m15\u001b[39m                -\u001b[31m5\u001b[39m\u001b[31m.\u001b[39m\u001b[31m4\u001b[39m              2.40    27\n"
     ]
    }
   ],
   "source": [
    "# Calculate summary statistics by Diet\n",
    "diet_summary <- food_new %>%\n",
    "  group_by(Diet) %>%\n",
    "  summarise(\n",
    "    average_weight_change = mean(weightloss, na.rm = TRUE),\n",
    "    median_weight_change = median(weightloss, na.rm = TRUE),\n",
    "    sd_weight_change = sd(weightloss, na.rm = TRUE),\n",
    "    count = n()\n",
    "  ) %>%\n",
    "  arrange(desc(average_weight_change))  # Arrange in descending order of average change\n",
    "\n",
    "# View the summary\n",
    "print(diet_summary)\n"
   ]
  }
 ],
 "metadata": {
  "kernelspec": {
   "display_name": "R",
   "language": "R",
   "name": "ir"
  },
  "language_info": {
   "codemirror_mode": "r",
   "file_extension": ".r",
   "mimetype": "text/x-r-source",
   "name": "R",
   "pygments_lexer": "r",
   "version": "4.4.1"
  }
 },
 "nbformat": 4,
 "nbformat_minor": 2
}
