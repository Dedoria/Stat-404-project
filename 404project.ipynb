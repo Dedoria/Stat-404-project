{
 "cells": [
  {
   "cell_type": "markdown",
   "metadata": {},
   "source": [
    "# STAT 404 project\n",
    "\n",
    "author:\n",
    "  - Yanping (Dedoria) Wang (89845473)\n",
    "  - Kevin Zhu (81805673)\n",
    "  - Raojun Bo (55832919)\n"
   ]
  },
  {
   "cell_type": "markdown",
   "metadata": {},
   "source": [
    "We are using the data set in kaggel which is aim at find [weight loss using different diet](https://www.kaggle.com/datasets/tombenny/foodhabbits).\n",
    "\n",
    "\n",
    "## Objective:\n",
    "To conduct a factorial experiment to investigate the main and interaction effects of diet type and  factors age and gender on weight loss among adults aged 16–60. This study aims to analyze how different combinations of diets and variables influence weight loss outcomes over a 6-week period, thereby identifying the most effective strategies for various population subgroups."
   ]
  },
  {
   "cell_type": "code",
   "execution_count": 1,
   "metadata": {
    "vscode": {
     "languageId": "r"
    }
   },
   "outputs": [
    {
     "name": "stderr",
     "output_type": "stream",
     "text": [
      "\n",
      "次のパッケージを付け加えます: ‘dplyr’\n",
      "\n",
      "\n",
      "以下のオブジェクトは ‘package:stats’ からマスクされています:\n",
      "\n",
      "    filter, lag\n",
      "\n",
      "\n",
      "以下のオブジェクトは ‘package:base’ からマスクされています:\n",
      "\n",
      "    intersect, setdiff, setequal, union\n",
      "\n",
      "\n"
     ]
    }
   ],
   "source": [
    "library(dplyr)\n",
    "library(ggplot2)\n"
   ]
  },
  {
   "cell_type": "code",
   "execution_count": 2,
   "metadata": {
    "vscode": {
     "languageId": "r"
    }
   },
   "outputs": [
    {
     "data": {
      "text/html": [
       "<table class=\"dataframe\">\n",
       "<caption>A data.frame: 6 × 7</caption>\n",
       "<thead>\n",
       "\t<tr><th></th><th scope=col>Person</th><th scope=col>gender</th><th scope=col>Age</th><th scope=col>Height</th><th scope=col>pre.weight</th><th scope=col>Diet</th><th scope=col>weight6weeks</th></tr>\n",
       "\t<tr><th></th><th scope=col>&lt;int&gt;</th><th scope=col>&lt;int&gt;</th><th scope=col>&lt;int&gt;</th><th scope=col>&lt;int&gt;</th><th scope=col>&lt;int&gt;</th><th scope=col>&lt;int&gt;</th><th scope=col>&lt;dbl&gt;</th></tr>\n",
       "</thead>\n",
       "<tbody>\n",
       "\t<tr><th scope=row>1</th><td>25</td><td>0</td><td>41</td><td>171</td><td> 60</td><td>2</td><td> 60.0</td></tr>\n",
       "\t<tr><th scope=row>2</th><td>26</td><td>0</td><td>32</td><td>174</td><td>103</td><td>2</td><td>103.0</td></tr>\n",
       "\t<tr><th scope=row>3</th><td> 1</td><td>0</td><td>22</td><td>159</td><td> 58</td><td>1</td><td> 54.2</td></tr>\n",
       "\t<tr><th scope=row>4</th><td> 2</td><td>0</td><td>46</td><td>192</td><td> 60</td><td>1</td><td> 54.0</td></tr>\n",
       "\t<tr><th scope=row>5</th><td> 3</td><td>0</td><td>55</td><td>170</td><td> 64</td><td>1</td><td> 63.3</td></tr>\n",
       "\t<tr><th scope=row>6</th><td> 4</td><td>0</td><td>33</td><td>171</td><td> 64</td><td>1</td><td> 61.1</td></tr>\n",
       "</tbody>\n",
       "</table>\n"
      ],
      "text/latex": [
       "A data.frame: 6 × 7\n",
       "\\begin{tabular}{r|lllllll}\n",
       "  & Person & gender & Age & Height & pre.weight & Diet & weight6weeks\\\\\n",
       "  & <int> & <int> & <int> & <int> & <int> & <int> & <dbl>\\\\\n",
       "\\hline\n",
       "\t1 & 25 & 0 & 41 & 171 &  60 & 2 &  60.0\\\\\n",
       "\t2 & 26 & 0 & 32 & 174 & 103 & 2 & 103.0\\\\\n",
       "\t3 &  1 & 0 & 22 & 159 &  58 & 1 &  54.2\\\\\n",
       "\t4 &  2 & 0 & 46 & 192 &  60 & 1 &  54.0\\\\\n",
       "\t5 &  3 & 0 & 55 & 170 &  64 & 1 &  63.3\\\\\n",
       "\t6 &  4 & 0 & 33 & 171 &  64 & 1 &  61.1\\\\\n",
       "\\end{tabular}\n"
      ],
      "text/markdown": [
       "\n",
       "A data.frame: 6 × 7\n",
       "\n",
       "| <!--/--> | Person &lt;int&gt; | gender &lt;int&gt; | Age &lt;int&gt; | Height &lt;int&gt; | pre.weight &lt;int&gt; | Diet &lt;int&gt; | weight6weeks &lt;dbl&gt; |\n",
       "|---|---|---|---|---|---|---|---|\n",
       "| 1 | 25 | 0 | 41 | 171 |  60 | 2 |  60.0 |\n",
       "| 2 | 26 | 0 | 32 | 174 | 103 | 2 | 103.0 |\n",
       "| 3 |  1 | 0 | 22 | 159 |  58 | 1 |  54.2 |\n",
       "| 4 |  2 | 0 | 46 | 192 |  60 | 1 |  54.0 |\n",
       "| 5 |  3 | 0 | 55 | 170 |  64 | 1 |  63.3 |\n",
       "| 6 |  4 | 0 | 33 | 171 |  64 | 1 |  61.1 |\n",
       "\n"
      ],
      "text/plain": [
       "  Person gender Age Height pre.weight Diet weight6weeks\n",
       "1 25     0      41  171     60        2     60.0       \n",
       "2 26     0      32  174    103        2    103.0       \n",
       "3  1     0      22  159     58        1     54.2       \n",
       "4  2     0      46  192     60        1     54.0       \n",
       "5  3     0      55  170     64        1     63.3       \n",
       "6  4     0      33  171     64        1     61.1       "
      ]
     },
     "metadata": {},
     "output_type": "display_data"
    }
   ],
   "source": [
    "#read data\n",
    "food <- read.csv(\"data/foodDiet.csv\")\n",
    "head(food)"
   ]
  },
  {
   "cell_type": "markdown",
   "metadata": {},
   "source": [
    "## Variable meaning\n",
    "\n",
    "| Variable Name         | Levels of the Variable      | Changes to Original Variable    |\n",
    "|-----------------------|-----------------------------|-------------------------------------|\n",
    "| person        | 1-78 stands for id for each person    | drop this, not useful            |\n",
    "| gender        | 0 for female, 1 for male     | None            |\n",
    "| Age(years old)        | 16-60    | 16-45(young), 45-60(elder)        |\n",
    "| Height(cm)     | Continuous 141cm-201cm  | Calculate BMI with pre.weight                    |\n",
    "| pre.Weight (kg)  | Continuous 58kg-103kg (weight before the experiment)      | categorize them as Underweight(<18.5), Healthy(18.5 - 25), Overweight(25 - 30), Obesity(>=30)     |\n",
    "| Diet         | 1(Placebo), 2(Keto), 3(Vegan)    | None            |\n",
    "| weight6weeks (kg)    | Continuous 53kg-103kg (weight after 6 weeks take diet)      |     Calculate BMI with Height        |\n",
    "| weightloss (kg)    | Continuous  (weight6weeks - pre.Weight)   |    standardize       |"
   ]
  },
  {
   "cell_type": "code",
   "execution_count": 3,
   "metadata": {
    "vscode": {
     "languageId": "r"
    }
   },
   "outputs": [
    {
     "data": {
      "text/html": [
       "<table class=\"dataframe\">\n",
       "<caption>A data.frame: 6 × 11</caption>\n",
       "<thead>\n",
       "\t<tr><th></th><th scope=col>gender</th><th scope=col>AgeGroup</th><th scope=col>Diet</th><th scope=col>BMI_pre</th><th scope=col>BMI_category_pre</th><th scope=col>BMI_post</th><th scope=col>weightloss</th><th scope=col>Diet_std</th><th scope=col>BMI_pre_std</th><th scope=col>BMI_post_std</th><th scope=col>weightloss_std</th></tr>\n",
       "\t<tr><th></th><th scope=col>&lt;fct&gt;</th><th scope=col>&lt;fct&gt;</th><th scope=col>&lt;int&gt;</th><th scope=col>&lt;dbl&gt;</th><th scope=col>&lt;fct&gt;</th><th scope=col>&lt;dbl&gt;</th><th scope=col>&lt;dbl&gt;</th><th scope=col>&lt;dbl&gt;</th><th scope=col>&lt;dbl&gt;</th><th scope=col>&lt;dbl&gt;</th><th scope=col>&lt;dbl&gt;</th></tr>\n",
       "</thead>\n",
       "<tbody>\n",
       "\t<tr><th scope=row>1</th><td>Female</td><td>Young</td><td>2</td><td>20.51913</td><td>Healthy    </td><td>20.51913</td><td> 0.0</td><td>-0.04731281</td><td>-1.1367460</td><td>-0.8409967</td><td> 1.50691963</td></tr>\n",
       "\t<tr><th scope=row>2</th><td>Female</td><td>Young</td><td>2</td><td>34.02035</td><td>Obesity    </td><td>34.02035</td><td> 0.0</td><td>-0.04731281</td><td> 2.2089119</td><td> 2.6665571</td><td> 1.50691963</td></tr>\n",
       "\t<tr><th scope=row>3</th><td>Female</td><td>Young</td><td>1</td><td>22.94213</td><td>Healthy    </td><td>21.43903</td><td>-3.8</td><td>-1.27744594</td><td>-0.5363172</td><td>-0.6020131</td><td> 0.01758659</td></tr>\n",
       "\t<tr><th scope=row>4</th><td>Female</td><td>Elder</td><td>1</td><td>16.27604</td><td>Underweight</td><td>14.64844</td><td>-6.0</td><td>-1.27744594</td><td>-2.1882023</td><td>-2.3661771</td><td>-0.84465885</td></tr>\n",
       "\t<tr><th scope=row>5</th><td>Female</td><td>Elder</td><td>1</td><td>22.14533</td><td>Healthy    </td><td>21.90311</td><td>-0.7</td><td>-1.27744594</td><td>-0.7337680</td><td>-0.4814449</td><td> 1.23256881</td></tr>\n",
       "\t<tr><th scope=row>6</th><td>Female</td><td>Young</td><td>1</td><td>21.88708</td><td>Healthy    </td><td>20.89532</td><td>-2.9</td><td>-1.27744594</td><td>-0.7977641</td><td>-0.7432658</td><td> 0.37032336</td></tr>\n",
       "</tbody>\n",
       "</table>\n"
      ],
      "text/latex": [
       "A data.frame: 6 × 11\n",
       "\\begin{tabular}{r|lllllllllll}\n",
       "  & gender & AgeGroup & Diet & BMI\\_pre & BMI\\_category\\_pre & BMI\\_post & weightloss & Diet\\_std & BMI\\_pre\\_std & BMI\\_post\\_std & weightloss\\_std\\\\\n",
       "  & <fct> & <fct> & <int> & <dbl> & <fct> & <dbl> & <dbl> & <dbl> & <dbl> & <dbl> & <dbl>\\\\\n",
       "\\hline\n",
       "\t1 & Female & Young & 2 & 20.51913 & Healthy     & 20.51913 &  0.0 & -0.04731281 & -1.1367460 & -0.8409967 &  1.50691963\\\\\n",
       "\t2 & Female & Young & 2 & 34.02035 & Obesity     & 34.02035 &  0.0 & -0.04731281 &  2.2089119 &  2.6665571 &  1.50691963\\\\\n",
       "\t3 & Female & Young & 1 & 22.94213 & Healthy     & 21.43903 & -3.8 & -1.27744594 & -0.5363172 & -0.6020131 &  0.01758659\\\\\n",
       "\t4 & Female & Elder & 1 & 16.27604 & Underweight & 14.64844 & -6.0 & -1.27744594 & -2.1882023 & -2.3661771 & -0.84465885\\\\\n",
       "\t5 & Female & Elder & 1 & 22.14533 & Healthy     & 21.90311 & -0.7 & -1.27744594 & -0.7337680 & -0.4814449 &  1.23256881\\\\\n",
       "\t6 & Female & Young & 1 & 21.88708 & Healthy     & 20.89532 & -2.9 & -1.27744594 & -0.7977641 & -0.7432658 &  0.37032336\\\\\n",
       "\\end{tabular}\n"
      ],
      "text/markdown": [
       "\n",
       "A data.frame: 6 × 11\n",
       "\n",
       "| <!--/--> | gender &lt;fct&gt; | AgeGroup &lt;fct&gt; | Diet &lt;int&gt; | BMI_pre &lt;dbl&gt; | BMI_category_pre &lt;fct&gt; | BMI_post &lt;dbl&gt; | weightloss &lt;dbl&gt; | Diet_std &lt;dbl&gt; | BMI_pre_std &lt;dbl&gt; | BMI_post_std &lt;dbl&gt; | weightloss_std &lt;dbl&gt; |\n",
       "|---|---|---|---|---|---|---|---|---|---|---|---|\n",
       "| 1 | Female | Young | 2 | 20.51913 | Healthy     | 20.51913 |  0.0 | -0.04731281 | -1.1367460 | -0.8409967 |  1.50691963 |\n",
       "| 2 | Female | Young | 2 | 34.02035 | Obesity     | 34.02035 |  0.0 | -0.04731281 |  2.2089119 |  2.6665571 |  1.50691963 |\n",
       "| 3 | Female | Young | 1 | 22.94213 | Healthy     | 21.43903 | -3.8 | -1.27744594 | -0.5363172 | -0.6020131 |  0.01758659 |\n",
       "| 4 | Female | Elder | 1 | 16.27604 | Underweight | 14.64844 | -6.0 | -1.27744594 | -2.1882023 | -2.3661771 | -0.84465885 |\n",
       "| 5 | Female | Elder | 1 | 22.14533 | Healthy     | 21.90311 | -0.7 | -1.27744594 | -0.7337680 | -0.4814449 |  1.23256881 |\n",
       "| 6 | Female | Young | 1 | 21.88708 | Healthy     | 20.89532 | -2.9 | -1.27744594 | -0.7977641 | -0.7432658 |  0.37032336 |\n",
       "\n"
      ],
      "text/plain": [
       "  gender AgeGroup Diet BMI_pre  BMI_category_pre BMI_post weightloss\n",
       "1 Female Young    2    20.51913 Healthy          20.51913  0.0      \n",
       "2 Female Young    2    34.02035 Obesity          34.02035  0.0      \n",
       "3 Female Young    1    22.94213 Healthy          21.43903 -3.8      \n",
       "4 Female Elder    1    16.27604 Underweight      14.64844 -6.0      \n",
       "5 Female Elder    1    22.14533 Healthy          21.90311 -0.7      \n",
       "6 Female Young    1    21.88708 Healthy          20.89532 -2.9      \n",
       "  Diet_std    BMI_pre_std BMI_post_std weightloss_std\n",
       "1 -0.04731281 -1.1367460  -0.8409967    1.50691963   \n",
       "2 -0.04731281  2.2089119   2.6665571    1.50691963   \n",
       "3 -1.27744594 -0.5363172  -0.6020131    0.01758659   \n",
       "4 -1.27744594 -2.1882023  -2.3661771   -0.84465885   \n",
       "5 -1.27744594 -0.7337680  -0.4814449    1.23256881   \n",
       "6 -1.27744594 -0.7977641  -0.7432658    0.37032336   "
      ]
     },
     "metadata": {},
     "output_type": "display_data"
    }
   ],
   "source": [
    "# Create a copy of the original data\n",
    "food_original <- food\n",
    "\n",
    "# Modify the data: drop 'Person' and perform necessary transformations\n",
    "food_modified <- food_original %>%\n",
    "  select(-Person) %>%  # Drop 'Person' column\n",
    "  mutate(\n",
    "    # Recode 'gender'\n",
    "    gender = factor(gender, levels = c(0, 1), labels = c(\"Female\", \"Male\")),\n",
    "    \n",
    "    # Reclassify 'Age' into age groups\n",
    "    AgeGroup = cut(\n",
    "      Age,\n",
    "      breaks = c(15, 45, 60),\n",
    "      right = TRUE,\n",
    "      labels = c(\"Young\", \"Elder\")\n",
    "    ),\n",
    "    \n",
    "    # Convert 'Height' to meters\n",
    "    Height_m = Height / 100,\n",
    "    \n",
    "    # Calculate BMI before the experiment\n",
    "    BMI_pre = pre.weight / (Height_m^2),\n",
    "    \n",
    "    # Categorize BMI_pre\n",
    "    BMI_category_pre = cut(\n",
    "      BMI_pre,\n",
    "      breaks = c(-Inf, 18.5, 25, 30, Inf),\n",
    "      labels = c(\"Underweight\", \"Healthy\", \"Overweight\", \"Obesity\")\n",
    "    ),\n",
    "    \n",
    "    # Calculate BMI after 6 weeks\n",
    "    BMI_post = weight6weeks / (Height_m^2),\n",
    "    \n",
    "    # Calculate weight loss\n",
    "    weightloss = weight6weeks - pre.weight\n",
    "  )\n",
    "\n",
    "# Select required columns for the new dataset\n",
    "food_new <- food_modified %>%\n",
    "  select(\n",
    "    gender,\n",
    "    AgeGroup,\n",
    "    Diet,\n",
    "    BMI_pre,\n",
    "    BMI_category_pre,\n",
    "    BMI_post,\n",
    "    weightloss\n",
    "  )\n",
    "\n",
    "# Identify numeric columns\n",
    "numeric_cols <- food_new %>%\n",
    "  select(where(is.numeric)) %>%\n",
    "  names()\n",
    "\n",
    "# Standardize numeric columns and add them to the new dataset\n",
    "food_new <- food_new %>%\n",
    "  mutate(across(all_of(numeric_cols), ~ scale(.)[,1], .names = \"{col}_std\"))\n",
    "\n",
    "head(food_new)"
   ]
  },
  {
   "cell_type": "code",
   "execution_count": 4,
   "metadata": {
    "vscode": {
     "languageId": "r"
    }
   },
   "outputs": [],
   "source": [
    "#make these as factor that is able to make anova work\n",
    "food_new <- food_new %>%\n",
    "  mutate(\n",
    "    gender = as.factor(gender),\n",
    "    AgeGroup = as.factor(AgeGroup),\n",
    "    Diet = as.factor(Diet)\n",
    "  )"
   ]
  },
  {
   "cell_type": "code",
   "execution_count": 5,
   "metadata": {
    "vscode": {
     "languageId": "r"
    }
   },
   "outputs": [
    {
     "name": "stderr",
     "output_type": "stream",
     "text": [
      "\u001b[1m\u001b[22m`summarise()` has grouped output by 'Diet'. You can override using the\n",
      "`.groups` argument.\n",
      "\u001b[1m\u001b[22m`summarise()` has grouped output by 'Diet'. You can override using the\n",
      "`.groups` argument.\n",
      "\u001b[1m\u001b[22m`summarise()` has grouped output by 'Diet', 'AgeGroup'. You can override using\n",
      "the `.groups` argument.\n"
     ]
    }
   ],
   "source": [
    "\n",
    "grouped_summary_age_diet <- food_new %>%\n",
    "  group_by(Diet, AgeGroup) %>%\n",
    "  summarise(\n",
    "    mean_weightloss = mean(weightloss, na.rm = TRUE),\n",
    "    sd_weightloss = sd(weightloss, na.rm = TRUE),\n",
    "    count = n()\n",
    "  )\n",
    "\n",
    "grouped_summary_gender_diet <- food_new %>%\n",
    "  group_by(Diet, gender) %>%\n",
    "  summarise(\n",
    "    mean_weightloss = mean(weightloss, na.rm = TRUE),\n",
    "    sd_weightloss = sd(weightloss, na.rm = TRUE),\n",
    "    count = n()\n",
    "  )\n",
    "\n",
    "\n",
    "grouped_summary_interaction_diet <- food_new %>%\n",
    "  group_by(Diet, AgeGroup, gender) %>%\n",
    "  summarise(\n",
    "    mean_weightloss = mean(weightloss, na.rm = TRUE),\n",
    "    sd_weightloss = sd(weightloss, na.rm = TRUE),\n",
    "    count = n()\n",
    "  )\n",
    "\n",
    "three <- c(\"Diet\", \"AgeGroup\", \"gender\")\n"
   ]
  },
  {
   "cell_type": "code",
   "execution_count": 6,
   "metadata": {
    "vscode": {
     "languageId": "r"
    }
   },
   "outputs": [
    {
     "name": "stdout",
     "output_type": "stream",
     "text": [
      "\n",
      "Summary Statistics by Diet :\n",
      "\u001b[90m# A tibble: 3 × 4\u001b[39m\n",
      "  Diet  mean_weightloss sd_weightloss count\n",
      "  \u001b[3m\u001b[90m<fct>\u001b[39m\u001b[23m           \u001b[3m\u001b[90m<dbl>\u001b[39m\u001b[23m         \u001b[3m\u001b[90m<dbl>\u001b[39m\u001b[23m \u001b[3m\u001b[90m<int>\u001b[39m\u001b[23m\n",
      "\u001b[90m1\u001b[39m 2               -\u001b[31m3\u001b[39m\u001b[31m.\u001b[39m\u001b[31m0\u001b[39m\u001b[31m3\u001b[39m          2.52    27\n",
      "\u001b[90m2\u001b[39m 1               -\u001b[31m3\u001b[39m\u001b[31m.\u001b[39m\u001b[31m3\u001b[39m           2.24    24\n",
      "\u001b[90m3\u001b[39m 3               -\u001b[31m5\u001b[39m\u001b[31m.\u001b[39m\u001b[31m15\u001b[39m          2.40    27\n",
      "\n",
      "Summary Statistics by AgeGroup :\n",
      "\u001b[90m# A tibble: 2 × 4\u001b[39m\n",
      "  AgeGroup mean_weightloss sd_weightloss count\n",
      "  \u001b[3m\u001b[90m<fct>\u001b[39m\u001b[23m              \u001b[3m\u001b[90m<dbl>\u001b[39m\u001b[23m         \u001b[3m\u001b[90m<dbl>\u001b[39m\u001b[23m \u001b[3m\u001b[90m<int>\u001b[39m\u001b[23m\n",
      "\u001b[90m1\u001b[39m Elder              -\u001b[31m3\u001b[39m\u001b[31m.\u001b[39m\u001b[31m75\u001b[39m          2.04    21\n",
      "\u001b[90m2\u001b[39m Young              -\u001b[31m3\u001b[39m\u001b[31m.\u001b[39m\u001b[31m88\u001b[39m          2.73    57\n",
      "\n",
      "Summary Statistics by gender :\n",
      "\u001b[90m# A tibble: 2 × 4\u001b[39m\n",
      "  gender mean_weightloss sd_weightloss count\n",
      "  \u001b[3m\u001b[90m<fct>\u001b[39m\u001b[23m            \u001b[3m\u001b[90m<dbl>\u001b[39m\u001b[23m         \u001b[3m\u001b[90m<dbl>\u001b[39m\u001b[23m \u001b[3m\u001b[90m<int>\u001b[39m\u001b[23m\n",
      "\u001b[90m1\u001b[39m Female           -\u001b[31m3\u001b[39m\u001b[31m.\u001b[39m\u001b[31m72\u001b[39m          2.59    45\n",
      "\u001b[90m2\u001b[39m Male             -\u001b[31m4\u001b[39m\u001b[31m.\u001b[39m\u001b[31m0\u001b[39m\u001b[31m2\u001b[39m          2.53    33\n"
     ]
    }
   ],
   "source": [
    "\n",
    "for (var in three) {\n",
    "  \n",
    "  # Dynamically group by the current variable\n",
    "  summary_table <- food_new %>%\n",
    "    group_by(.data[[var]]) %>%  # Use .data pronoun for dynamic variable\n",
    "    summarise(\n",
    "      mean_weightloss = mean(weightloss, na.rm = TRUE),\n",
    "      sd_weightloss = sd(weightloss, na.rm = TRUE),\n",
    "      count = n()\n",
    "    ) %>%\n",
    "    arrange(desc(mean_weightloss))  # Optional: Arrange by mean_weightloss\n",
    "  \n",
    "  # Print the summary table with a header\n",
    "  cat(\"\\nSummary Statistics by\", var, \":\\n\")\n",
    "  print(summary_table)\n",
    "}"
   ]
  },
  {
   "cell_type": "markdown",
   "metadata": {},
   "source": [
    "From this we can see that the weight loss is kind of relavant to the gender and diet type"
   ]
  },
  {
   "cell_type": "code",
   "execution_count": 7,
   "metadata": {
    "vscode": {
     "languageId": "r"
    }
   },
   "outputs": [
    {
     "name": "stdout",
     "output_type": "stream",
     "text": [
      "\u001b[90m# A tibble: 6 × 5\u001b[39m\n",
      "\u001b[90m# Groups:   Diet [3]\u001b[39m\n",
      "  Diet  gender mean_weightloss sd_weightloss count\n",
      "  \u001b[3m\u001b[90m<fct>\u001b[39m\u001b[23m \u001b[3m\u001b[90m<fct>\u001b[39m\u001b[23m            \u001b[3m\u001b[90m<dbl>\u001b[39m\u001b[23m         \u001b[3m\u001b[90m<dbl>\u001b[39m\u001b[23m \u001b[3m\u001b[90m<int>\u001b[39m\u001b[23m\n",
      "\u001b[90m1\u001b[39m 1     Female           -\u001b[31m3\u001b[39m\u001b[31m.\u001b[39m\u001b[31m0\u001b[39m\u001b[31m5\u001b[39m          2.07    14\n",
      "\u001b[90m2\u001b[39m 1     Male             -\u001b[31m3\u001b[39m\u001b[31m.\u001b[39m\u001b[31m65\u001b[39m          2.54    10\n",
      "\u001b[90m3\u001b[39m 2     Female           -\u001b[31m2\u001b[39m\u001b[31m.\u001b[39m\u001b[31m28\u001b[39m          2.31    16\n",
      "\u001b[90m4\u001b[39m 2     Male             -\u001b[31m4\u001b[39m\u001b[31m.\u001b[39m\u001b[31m11\u001b[39m          2.53    11\n",
      "\u001b[90m5\u001b[39m 3     Female           -\u001b[31m5\u001b[39m\u001b[31m.\u001b[39m\u001b[31m88\u001b[39m          1.89    15\n",
      "\u001b[90m6\u001b[39m 3     Male             -\u001b[31m4\u001b[39m\u001b[31m.\u001b[39m\u001b[31m23\u001b[39m          2.72    12\n",
      "\u001b[90m# A tibble: 6 × 5\u001b[39m\n",
      "\u001b[90m# Groups:   Diet [3]\u001b[39m\n",
      "  Diet  AgeGroup mean_weightloss sd_weightloss count\n",
      "  \u001b[3m\u001b[90m<fct>\u001b[39m\u001b[23m \u001b[3m\u001b[90m<fct>\u001b[39m\u001b[23m              \u001b[3m\u001b[90m<dbl>\u001b[39m\u001b[23m         \u001b[3m\u001b[90m<dbl>\u001b[39m\u001b[23m \u001b[3m\u001b[90m<int>\u001b[39m\u001b[23m\n",
      "\u001b[90m1\u001b[39m 1     Young              -\u001b[31m3\u001b[39m\u001b[31m.\u001b[39m\u001b[31m45\u001b[39m          2.51    16\n",
      "\u001b[90m2\u001b[39m 1     Elder              -\u001b[31m3\u001b[39m             1.67     8\n",
      "\u001b[90m3\u001b[39m 2     Young              -\u001b[31m2\u001b[39m\u001b[31m.\u001b[39m\u001b[31m98\u001b[39m          2.73    21\n",
      "\u001b[90m4\u001b[39m 2     Elder              -\u001b[31m3\u001b[39m\u001b[31m.\u001b[39m\u001b[31m2\u001b[39m           1.80     6\n",
      "\u001b[90m5\u001b[39m 3     Young              -\u001b[31m5\u001b[39m\u001b[31m.\u001b[39m\u001b[31m17\u001b[39m          2.51    20\n",
      "\u001b[90m6\u001b[39m 3     Elder              -\u001b[31m5\u001b[39m\u001b[31m.\u001b[39m\u001b[31m0\u001b[39m\u001b[31m7\u001b[39m          2.21     7\n"
     ]
    }
   ],
   "source": [
    "print(grouped_summary_gender_diet)\n",
    "print(grouped_summary_age_diet)"
   ]
  },
  {
   "cell_type": "markdown",
   "metadata": {},
   "source": [
    "From these two chart we see that the weight change seems to be irrelavent to Age and kind of relavent to gender, and may alter with different diets. "
   ]
  },
  {
   "cell_type": "code",
   "execution_count": 8,
   "metadata": {
    "vscode": {
     "languageId": "r"
    }
   },
   "outputs": [
    {
     "name": "stdout",
     "output_type": "stream",
     "text": [
      "\u001b[90m# A tibble: 12 × 6\u001b[39m\n",
      "\u001b[90m# Groups:   Diet, AgeGroup [6]\u001b[39m\n",
      "   Diet  AgeGroup gender mean_weightloss sd_weightloss count\n",
      "   \u001b[3m\u001b[90m<fct>\u001b[39m\u001b[23m \u001b[3m\u001b[90m<fct>\u001b[39m\u001b[23m    \u001b[3m\u001b[90m<fct>\u001b[39m\u001b[23m            \u001b[3m\u001b[90m<dbl>\u001b[39m\u001b[23m         \u001b[3m\u001b[90m<dbl>\u001b[39m\u001b[23m \u001b[3m\u001b[90m<int>\u001b[39m\u001b[23m\n",
      "\u001b[90m 1\u001b[39m 1     Young    Female           -\u001b[31m3\u001b[39m\u001b[31m.\u001b[39m\u001b[31m34\u001b[39m         2.30      8\n",
      "\u001b[90m 2\u001b[39m 1     Young    Male             -\u001b[31m3\u001b[39m\u001b[31m.\u001b[39m\u001b[31m56\u001b[39m         2.87      8\n",
      "\u001b[90m 3\u001b[39m 1     Elder    Female           -\u001b[31m2\u001b[39m\u001b[31m.\u001b[39m\u001b[31m67\u001b[39m         1.84      6\n",
      "\u001b[90m 4\u001b[39m 1     Elder    Male             -\u001b[31m4\u001b[39m            0.141     2\n",
      "\u001b[90m 5\u001b[39m 2     Young    Female           -\u001b[31m2\u001b[39m\u001b[31m.\u001b[39m\u001b[31m28\u001b[39m         2.61     12\n",
      "\u001b[90m 6\u001b[39m 2     Young    Male             -\u001b[31m3\u001b[39m\u001b[31m.\u001b[39m\u001b[31m91\u001b[39m         2.75      9\n",
      "\u001b[90m 7\u001b[39m 2     Elder    Female           -\u001b[31m2\u001b[39m\u001b[31m.\u001b[39m\u001b[31m3\u001b[39m          1.31      4\n",
      "\u001b[90m 8\u001b[39m 2     Elder    Male             -\u001b[31m5\u001b[39m            1.13      2\n",
      "\u001b[90m 9\u001b[39m 3     Young    Female           -\u001b[31m5\u001b[39m\u001b[31m.\u001b[39m\u001b[31m8\u001b[39m          2.10     11\n",
      "\u001b[90m10\u001b[39m 3     Young    Male             -\u001b[31m4\u001b[39m\u001b[31m.\u001b[39m\u001b[31m41\u001b[39m         2.88      9\n",
      "\u001b[90m11\u001b[39m 3     Elder    Female           -\u001b[31m6\u001b[39m\u001b[31m.\u001b[39m\u001b[31m1\u001b[39m          1.37      4\n",
      "\u001b[90m12\u001b[39m 3     Elder    Male             -\u001b[31m3\u001b[39m\u001b[31m.\u001b[39m\u001b[31m70\u001b[39m         2.62      3\n"
     ]
    }
   ],
   "source": [
    "print(grouped_summary_interaction_diet)"
   ]
  },
  {
   "cell_type": "code",
   "execution_count": 9,
   "metadata": {
    "vscode": {
     "languageId": "r"
    }
   },
   "outputs": [
    {
     "data": {
      "text/plain": [
       "                     Df Sum Sq Mean Sq F value  Pr(>F)   \n",
       "Diet                  2  10.92   5.460   6.125 0.00363 **\n",
       "AgeGroup              1   0.04   0.036   0.041 0.84085   \n",
       "gender                1   0.14   0.144   0.162 0.68867   \n",
       "Diet:AgeGroup         2   0.16   0.078   0.088 0.91597   \n",
       "Diet:gender           2   6.32   3.158   3.542 0.03458 * \n",
       "AgeGroup:gender       1   0.05   0.049   0.055 0.81482   \n",
       "Diet:AgeGroup:gender  2   0.54   0.270   0.303 0.73947   \n",
       "Residuals            66  58.84   0.891                   \n",
       "---\n",
       "Signif. codes:  0 ‘***’ 0.001 ‘**’ 0.01 ‘*’ 0.05 ‘.’ 0.1 ‘ ’ 1"
      ]
     },
     "metadata": {},
     "output_type": "display_data"
    }
   ],
   "source": [
    "factorial_model <- aov(weightloss_std ~  Diet*AgeGroup*gender, data = food_new)\n",
    "summary.aov(factorial_model)"
   ]
  },
  {
   "cell_type": "code",
   "execution_count": 10,
   "metadata": {
    "vscode": {
     "languageId": "r"
    }
   },
   "outputs": [
    {
     "data": {
      "text/plain": [
       "                     Df Sum Sq Mean Sq F value  Pr(>F)   \n",
       "Diet                  2  10.92   5.460   6.125 0.00363 **\n",
       "gender                1   0.16   0.159   0.178 0.67415   \n",
       "Diet:gender           2   6.29   3.143   3.525 0.03510 * \n",
       "Diet:gender:AgeGroup  6   0.80   0.133   0.149 0.98862   \n",
       "Residuals            66  58.84   0.891                   \n",
       "---\n",
       "Signif. codes:  0 ‘***’ 0.001 ‘**’ 0.01 ‘*’ 0.05 ‘.’ 0.1 ‘ ’ 1"
      ]
     },
     "metadata": {},
     "output_type": "display_data"
    }
   ],
   "source": [
    "# including factors seems to be important\n",
    "factorial_model2 <- aov(weightloss_std ~ Diet + gender + Diet:gender + Diet:AgeGroup:gender, data = food_new)\n",
    "summary.aov(factorial_model2)"
   ]
  },
  {
   "cell_type": "markdown",
   "metadata": {},
   "source": [
    "The factorial ANOVA results from these two table reveal that Diet Type significantly affects weight loss outcomes at a significance level of 0.01 and that Diet with Gender interaction term is statistically significant at 0.05 significance level. \n",
    "Practical significance: The Diet type and the gender diet interaction term have the most sum of square. These two term explain the most variation and the other explain little of variation."
   ]
  }
 ],
 "metadata": {
  "kernelspec": {
   "display_name": "R",
   "language": "R",
   "name": "ir"
  },
  "language_info": {
   "codemirror_mode": "r",
   "file_extension": ".r",
   "mimetype": "text/x-r-source",
   "name": "R",
   "pygments_lexer": "r",
   "version": "4.4.1"
  }
 },
 "nbformat": 4,
 "nbformat_minor": 2
}
