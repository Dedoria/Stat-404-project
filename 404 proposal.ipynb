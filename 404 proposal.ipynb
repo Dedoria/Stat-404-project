{
 "cells": [
  {
   "cell_type": "markdown",
   "metadata": {},
   "source": [
    "---\n",
    " \"Project 404 Proposal\"\n",
    "\n",
    "author:\n",
    "  - Yanping (Dedoria) Wang (89845473)\n",
    "  - Kevin Zhu (81805673)\n",
    "  - Raojun Bo (55832919)\n"
   ]
  },
  {
   "cell_type": "markdown",
   "metadata": {},
   "source": [
    "We are using the data set in kaggel which is aim at find [weight loss using different diet](https://www.kaggle.com/datasets/tombenny/foodhabbits)."
   ]
  },
  {
   "cell_type": "markdown",
   "metadata": {},
   "source": [
    "To conduct a factorial experiment to investigate the main and interaction effects of diet type and  factors age and gender on weight loss among adults aged 16–60. This study aims to analyze how different combinations of diets and variables influence weight loss outcomes over a 6-week period, thereby identifying the most effective strategies for various population subgroups."
   ]
  },
  {
   "cell_type": "markdown",
   "metadata": {},
   "source": [
    "| Variable Name         | Levels of the Variable      | Changes to Original Variable    |\n",
    "|-----------------------|-----------------------------|-------------------------------------|\n",
    "| person        | 1-78 stands for id for each person    | drop this, not useful            |\n",
    "| gender        | 0 for female, 1 for male     | None            |\n",
    "| Age(years old)        | 16-60    | 16-19(Adolescent), 20-39(Adults), 40-49(Middle-Aged Adults), 50-60(Elder Adults)         |\n",
    "| Height(cm)     | Continuous 141cm-201cm  | Calculate BMI with pre.weight                    |\n",
    "| pre.Weight (kg)  | Continuous 58kg-103kg (weight before the experiment)      | categorize them as Underweight(<18.5), Healthy(18.5 - 25), Overweight(25 - 30), Obesity(>=30)     |\n",
    "| Diet         | 1(Placebo), 2(Keto), 3(Vegan)    | None            |\n",
    "| weight6weeks (kg)    | Continuous 53kg-103kg (weight after 6 weeks take diet)      |     Calculate BMI with Height        |\n",
    "| weightloss (kg)    | Continuous  (weight6weeks - pre.Weight)   |    None       |\n",
    "\n"
   ]
  },
  {
   "cell_type": "markdown",
   "metadata": {},
   "source": [
    "1. The size of the total data set is 78.\n",
    "\n",
    "2. Experiment units are the each person in the experiment.\n",
    "\n",
    "3. Response variable is weight6weeks - pre.Weight corresponds to the weight loss,which is a continuous variable.\n",
    "\n",
    "4. Treatments are the Diet with 3 levels."
   ]
  }
 ],
 "metadata": {
  "kernelspec": {
   "display_name": "R",
   "language": "R",
   "name": "ir"
  },
  "language_info": {
   "codemirror_mode": "r",
   "file_extension": ".r",
   "mimetype": "text/x-r-source",
   "name": "R",
   "pygments_lexer": "r",
   "version": "4.4.1"
  }
 },
 "nbformat": 4,
 "nbformat_minor": 2
}
